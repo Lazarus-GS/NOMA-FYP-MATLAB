{
  "nbformat": 4,
  "nbformat_minor": 0,
  "metadata": {
    "colab": {
      "provenance": [],
      "authorship_tag": "ABX9TyPo6UREd7wDREV+6Uv4jpCb",
      "include_colab_link": true
    },
    "kernelspec": {
      "name": "python3",
      "display_name": "Python 3"
    },
    "language_info": {
      "name": "python"
    }
  },
  "cells": [
    {
      "cell_type": "markdown",
      "metadata": {
        "id": "view-in-github",
        "colab_type": "text"
      },
      "source": [
        "<a href=\"https://colab.research.google.com/github/Lazarus-GS/NOMA-FYP-MATLAB/blob/main/ML%20Model/ScoreIndex.ipynb\" target=\"_parent\"><img src=\"https://colab.research.google.com/assets/colab-badge.svg\" alt=\"Open In Colab\"/></a>"
      ]
    },
    {
      "cell_type": "code",
      "source": [
        "import pandas as pd\n",
        "from scipy.optimize import minimize\n",
        "\n",
        "# Load data\n",
        "data_url = \"https://raw.githubusercontent.com/Lazarus-GS/NOMA-FYP-MATLAB/main/New/simulation_dataset2.csv\"\n",
        "df = pd.read_csv(data_url)\n",
        "\n",
        "# Normalize function\n",
        "def normalize(column):\n",
        "    return (column - column.min()) / (column.max() - column.min())\n",
        "\n",
        "# Add normalized columns\n",
        "df['NormalizedSumRateNear'] = normalize(df['SumRateNearUser'])\n",
        "df['NormalizedSumRateFar'] = normalize(df['SumRateFarUser'])\n",
        "df['NormalizedBERNear'] = normalize(df['BERNearUser'])\n",
        "df['NormalizedBERFar'] = normalize(df['BERFarUser'])\n",
        "df['NormalizedOutageNear'] = normalize(df['OutageProbNearUser'])\n",
        "df['NormalizedOutageFar'] = normalize(df['OutageProbFarUser'])\n",
        "\n",
        "# Score function\n",
        "def calculate_score(weights, data):\n",
        "    w1, w2, w3 = weights\n",
        "    scores = w1 * (data['NormalizedSumRateNear'] + data['NormalizedSumRateFar']) \\\n",
        "             - w2 * (data['NormalizedBERNear'] + data['NormalizedBERFar']) \\\n",
        "             - w3 * (data['NormalizedOutageNear'] + data['NormalizedOutageFar'])\n",
        "    return scores\n"
      ],
      "metadata": {
        "id": "jRBalnfJJwJN"
      },
      "execution_count": null,
      "outputs": []
    },
    {
      "cell_type": "code",
      "execution_count": null,
      "metadata": {
        "colab": {
          "base_uri": "https://localhost:8080/"
        },
        "id": "1ZGP1zi5H_S0",
        "outputId": "9bfeb798-3a9a-4caa-a3b3-011df44ecd04"
      },
      "outputs": [
        {
          "output_type": "stream",
          "name": "stdout",
          "text": [
            "Optimized weights for NOMA: [1. 0. 0.]\n",
            "Optimized weights for OMA: [1. 0. 0.]\n"
          ]
        }
      ],
      "source": [
        "# Step 3: Objective function\n",
        "def objective(weights, data):\n",
        "    scores = calculate_score(weights, data)\n",
        "    # We negate since we want to maximize the score, but the optimization function minimizes\n",
        "    return -scores.mean()\n",
        "\n",
        "# Initial weights\n",
        "initial_weights = [0.5, 0.25, 0.25]\n",
        "\n",
        "# Optimization bounds (weights between 0 and 1)\n",
        "bounds = [(0, 1) for _ in initial_weights]\n",
        "\n",
        "# Step 4: Optimization for NOMA\n",
        "noma_data = df[df['MAScheme'] == 'NOMA']\n",
        "result_noma = minimize(objective, initial_weights, args=(noma_data), bounds=bounds)\n",
        "optimized_weights_noma = result_noma.x\n",
        "\n",
        "# Optimization for OMA\n",
        "oma_data = df[df['MAScheme'] == 'OMA']\n",
        "result_oma = minimize(objective, initial_weights, args=(oma_data), bounds=bounds)\n",
        "optimized_weights_oma = result_oma.x\n",
        "\n",
        "print(f\"Optimized weights for NOMA: {optimized_weights_noma}\")\n",
        "print(f\"Optimized weights for OMA: {optimized_weights_oma}\")\n"
      ]
    },
    {
      "cell_type": "code",
      "source": [
        "pip install deap"
      ],
      "metadata": {
        "colab": {
          "base_uri": "https://localhost:8080/"
        },
        "id": "eHxl6RU4KJa8",
        "outputId": "a51eb130-6444-4431-e680-c26cc3ee18d0"
      },
      "execution_count": null,
      "outputs": [
        {
          "output_type": "stream",
          "name": "stdout",
          "text": [
            "Collecting deap\n",
            "  Downloading deap-1.4.1-cp310-cp310-manylinux_2_5_x86_64.manylinux1_x86_64.manylinux_2_17_x86_64.manylinux2014_x86_64.whl (135 kB)\n",
            "\u001b[?25l     \u001b[90m━━━━━━━━━━━━━━━━━━━━━━━━━━━━━━━━━━━━━━━━\u001b[0m \u001b[32m0.0/135.4 kB\u001b[0m \u001b[31m?\u001b[0m eta \u001b[36m-:--:--\u001b[0m\r\u001b[2K     \u001b[91m━━━━━━━━━━━━━━━━━━━━━━━━━━━\u001b[0m\u001b[90m╺\u001b[0m\u001b[90m━━━━━━━━━━━━\u001b[0m \u001b[32m92.2/135.4 kB\u001b[0m \u001b[31m2.8 MB/s\u001b[0m eta \u001b[36m0:00:01\u001b[0m\r\u001b[2K     \u001b[90m━━━━━━━━━━━━━━━━━━━━━━━━━━━━━━━━━━━━━━━━\u001b[0m \u001b[32m135.4/135.4 kB\u001b[0m \u001b[31m2.9 MB/s\u001b[0m eta \u001b[36m0:00:00\u001b[0m\n",
            "\u001b[?25hRequirement already satisfied: numpy in /usr/local/lib/python3.10/dist-packages (from deap) (1.23.5)\n",
            "Installing collected packages: deap\n",
            "Successfully installed deap-1.4.1\n"
          ]
        }
      ]
    },
    {
      "cell_type": "code",
      "source": [
        "import pandas as pd\n",
        "import numpy as np\n",
        "from deap import base, creator, tools, algorithms\n",
        "import random\n",
        "\n",
        "# Load the dataset\n",
        "url = \"https://raw.githubusercontent.com/Lazarus-GS/NOMA-FYP-MATLAB/main/New/simulation_dataset2.csv\"\n",
        "df = pd.read_csv(url)\n",
        "\n",
        "# Normalize the columns\n",
        "def normalize(column):\n",
        "    return (column - column.min()) / (column.max() - column.min())\n",
        "\n",
        "# Relevant columns to normalize\n",
        "cols_to_normalize = ['SumRateFarUser', 'SumRateNearUser', 'BERFarUser', 'BERNearUser', 'OutageProbFarUser', 'OutageProbNearUser']\n",
        "for col in cols_to_normalize:\n",
        "    df[f'Normalized{col}'] = normalize(df[col])\n",
        "\n",
        "# Scenarios with initial weights\n",
        "scenarios = {\n",
        "    \"eMBB\": [0.7, 0.15, 0.15],\n",
        "    \"URLLC\": [0.2, 0.4, 0.4],\n",
        "    \"mMTC\": [0.5, 0.25, 0.25]\n",
        "}\n",
        "\n",
        "# Define the objective function to calculate the score\n",
        "def calculate_score(weights, df_sub):\n",
        "    w1, w2, w3 = weights\n",
        "    scores = w1 * (df_sub['NormalizedSumRateNearUser'] + df_sub['NormalizedSumRateFarUser']) \\\n",
        "            - w2 * (df_sub['NormalizedBERNearUser'] + df_sub['NormalizedBERFarUser']) \\\n",
        "            - w3 * (df_sub['NormalizedOutageProbNearUser'] + df_sub['NormalizedOutageProbFarUser'])\n",
        "    scores = normalize(scores)\n",
        "    return scores\n",
        "\n",
        "# Define the optimization problem\n",
        "creator.create(\"FitnessMax\", base.Fitness, weights=(1.0,))\n",
        "creator.create(\"Individual\", list, fitness=creator.FitnessMax)\n",
        "\n",
        "toolbox = base.Toolbox()\n",
        "toolbox.register(\"attr_float\", random.random)\n",
        "toolbox.register(\"individual\", tools.initRepeat, creator.Individual, toolbox.attr_float, n=3)\n",
        "toolbox.register(\"population\", tools.initRepeat, list, toolbox.individual)\n",
        "\n",
        "# Evaluation function for the optimization\n",
        "def evaluate(individual):\n",
        "    weights = individual\n",
        "    scores_oma = calculate_score(weights, df[df['MAScheme'] == 'OMA'])\n",
        "    scores_noma = calculate_score(weights, df[df['MAScheme'] == 'NOMA'])\n",
        "    return sum(scores_oma) + sum(scores_noma),\n",
        "\n",
        "toolbox.register(\"evaluate\", evaluate)\n",
        "toolbox.register(\"mate\", tools.cxBlend, alpha=0.5)\n",
        "toolbox.register(\"mutate\", tools.mutGaussian, mu=0, sigma=0.2, indpb=0.2)\n",
        "toolbox.register(\"select\", tools.selTournament, tournsize=3)\n",
        "\n",
        "# Optimize weights for each scenario\n",
        "optimized_weights = {}\n",
        "\n",
        "for scenario, initial_weights in scenarios.items():\n",
        "    print(f\"\\nOptimizing weights for {scenario} scenario...\\n\")\n",
        "\n",
        "    pop = toolbox.population(n=50)\n",
        "    hof = tools.HallOfFame(1)\n",
        "    stats = tools.Statistics(lambda ind: ind.fitness.values)\n",
        "    stats.register(\"avg\", np.mean)\n",
        "    stats.register(\"min\", np.min)\n",
        "    stats.register(\"max\", np.max)\n",
        "\n",
        "    algorithms.eaSimple(pop, toolbox, cxpb=0.5, mutpb=0.2, ngen=40, stats=stats, halloffame=hof, verbose=True)\n",
        "\n",
        "    optimized_weights[scenario] = hof[0]\n",
        "\n",
        "print(\"\\nOptimized Weights:\")\n",
        "for scenario, weights in optimized_weights.items():\n",
        "    print(f\"{scenario}: {weights}\")\n"
      ],
      "metadata": {
        "colab": {
          "base_uri": "https://localhost:8080/"
        },
        "id": "yCMFOjmbKLhD",
        "outputId": "3bee136f-0541-4a89-98f8-5108d820b3d9"
      },
      "execution_count": null,
      "outputs": [
        {
          "output_type": "stream",
          "name": "stderr",
          "text": [
            "/usr/local/lib/python3.10/dist-packages/deap/creator.py:185: RuntimeWarning: A class named 'FitnessMax' has already been created and it will be overwritten. Consider deleting previous creation of that class or rename it.\n",
            "  warnings.warn(\"A class named '{0}' has already been created and it \"\n",
            "/usr/local/lib/python3.10/dist-packages/deap/creator.py:185: RuntimeWarning: A class named 'Individual' has already been created and it will be overwritten. Consider deleting previous creation of that class or rename it.\n",
            "  warnings.warn(\"A class named '{0}' has already been created and it \"\n"
          ]
        },
        {
          "output_type": "stream",
          "name": "stdout",
          "text": [
            "\n",
            "Optimizing weights for eMBB scenario...\n",
            "\n",
            "gen\tnevals\tavg    \tmin    \tmax    \n",
            "0  \t50    \t20315.3\t9047.62\t34761.6\n",
            "1  \t28    \t25490.4\t8735.4 \t37943.1\n",
            "2  \t27    \t30559.6\t23386.5\t41732.9\n",
            "3  \t28    \t33330.5\t25700.5\t40830.5\n",
            "4  \t32    \t35919.4\t26721.1\t42181.9\n",
            "5  \t40    \t38720.3\t33027.9\t45854.1\n",
            "6  \t25    \t41150.3\t34435.6\t46649.5\n",
            "7  \t37    \t43244.1\t33250  \t55774  \n",
            "8  \t33    \t48228.5\t40663.4\t106475 \n",
            "9  \t29    \t50529.7\t42567.6\t106475 \n",
            "10 \t29    \t55871.7\t44755  \t96739.1\n",
            "11 \t28    \t67765.7\t40700.6\t140796 \n",
            "12 \t31    \t89637.9\t48239.3\t140796 \n",
            "13 \t30    \t111446 \t52628  \t149979 \n",
            "14 \t40    \t129130 \t56382.4\t184975 \n",
            "15 \t35    \t153713 \t118186 \t197195 \n",
            "16 \t28    \t170836 \t143855 \t198508 \n",
            "17 \t30    \t184693 \t157448 \t201955 \n",
            "18 \t14    \t193635 \t135435 \t203834 \n",
            "19 \t26    \t199720 \t175983 \t226712 \n",
            "20 \t32    \t202836 \t143837 \t232526 \n",
            "21 \t33    \t211137 \t178976 \t232526 \n",
            "22 \t34    \t218840 \t194353 \t232538 \n",
            "23 \t30    \t225510 \t204897 \t232635 \n",
            "24 \t33    \t229832 \t217953 \t233063 \n",
            "25 \t28    \t232253 \t225925 \t233228 \n",
            "26 \t22    \t232695 \t227938 \t233223 \n",
            "27 \t27    \t232938 \t231418 \t233455 \n",
            "28 \t36    \t233139 \t232620 \t233642 \n",
            "29 \t32    \t233196 \t232761 \t233612 \n",
            "30 \t29    \t233346 \t231987 \t233712 \n",
            "31 \t28    \t233408 \t229104 \t233843 \n",
            "32 \t34    \t233367 \t225258 \t233843 \n",
            "33 \t31    \t233605 \t230552 \t234185 \n",
            "34 \t25    \t233568 \t228931 \t234118 \n",
            "35 \t19    \t233335 \t213849 \t234159 \n",
            "36 \t21    \t233973 \t233701 \t234245 \n",
            "37 \t28    \t233885 \t228636 \t234461 \n",
            "38 \t28    \t233695 \t213662 \t234461 \n",
            "39 \t33    \t233603 \t203357 \t234597 \n",
            "40 \t30    \t234330 \t234123 \t234597 \n",
            "\n",
            "Optimizing weights for URLLC scenario...\n",
            "\n",
            "gen\tnevals\tavg  \tmin    \tmax    \n",
            "0  \t50    \t19742\t7100.22\t32114.2\n",
            "1  \t27    \t24411.6\t14814.5\t34992.2\n",
            "2  \t35    \t27464.5\t17782.4\t35987.8\n",
            "3  \t34    \t32923.3\t22197.6\t114697 \n",
            "4  \t34    \t45015.3\t21651.7\t180773 \n",
            "5  \t23    \t65381.9\t20188.9\t209985 \n",
            "6  \t30    \t90783.5\t24185.6\t224156 \n",
            "7  \t28    \t133217 \t42205.9\t224156 \n",
            "8  \t25    \t165266 \t39428  \t231297 \n",
            "9  \t31    \t188512 \t35556.4\t234235 \n",
            "10 \t26    \t208788 \t71367.7\t233483 \n",
            "11 \t25    \t225051 \t173241 \t233483 \n",
            "12 \t26    \t231344 \t224901 \t233880 \n",
            "13 \t29    \t232447 \t227800 \t233935 \n",
            "14 \t23    \t233343 \t232124 \t235147 \n",
            "15 \t34    \t233683 \t226474 \t235599 \n",
            "16 \t30    \t233435 \t222788 \t235599 \n",
            "17 \t31    \t232149 \t154306 \t235632 \n",
            "18 \t31    \t235130 \t228313 \t235717 \n",
            "19 \t31    \t235100 \t228937 \t235717 \n",
            "20 \t29    \t234310 \t202161 \t235778 \n",
            "21 \t28    \t235383 \t223876 \t235796 \n",
            "22 \t31    \t235138 \t221455 \t235817 \n",
            "23 \t38    \t235147 \t227888 \t235813 \n",
            "24 \t29    \t233367 \t148407 \t235821 \n",
            "25 \t31    \t233068 \t169227 \t235821 \n",
            "26 \t29    \t234369 \t169581 \t235821 \n",
            "27 \t35    \t231156 \t94916.7\t235821 \n",
            "28 \t28    \t233812 \t199672 \t235821 \n",
            "29 \t36    \t235372 \t215765 \t235821 \n",
            "30 \t33    \t235658 \t227691 \t235821 \n",
            "31 \t30    \t234903 \t201228 \t235821 \n",
            "32 \t30    \t235078 \t222384 \t235821 \n",
            "33 \t26    \t230973 \t94328.3\t235821 \n",
            "34 \t36    \t235280 \t215692 \t235821 \n",
            "35 \t22    \t235422 \t224600 \t235821 \n",
            "36 \t31    \t234995 \t212105 \t235821 \n",
            "37 \t19    \t235279 \t210473 \t235821 \n",
            "38 \t33    \t235660 \t230545 \t235821 \n",
            "39 \t36    \t235495 \t224533 \t235821 \n",
            "40 \t30    \t234232 \t169113 \t235821 \n",
            "\n",
            "Optimizing weights for mMTC scenario...\n",
            "\n",
            "gen\tnevals\tavg    \tmin    \tmax  \n",
            "0  \t50    \t20816.7\t6189.63\t35284\n",
            "1  \t32    \t24781  \t15356.6\t36522.4\n",
            "2  \t27    \t33980.1\t9480.07\t192349 \n",
            "3  \t28    \t51374.6\t21188.5\t225882 \n",
            "4  \t31    \t72266.6\t11131.4\t226028 \n",
            "5  \t30    \t146894 \t12540.2\t229547 \n",
            "6  \t26    \t190904 \t38552.1\t233684 \n",
            "7  \t26    \t214245 \t31282.6\t233684 \n",
            "8  \t34    \t219501 \t17522.1\t233950 \n",
            "9  \t38    \t228086 \t180995 \t234736 \n",
            "10 \t32    \t223716 \t21707.5\t234968 \n",
            "11 \t33    \t229948 \t96187.4\t234736 \n",
            "12 \t38    \t229383 \t11973.7\t235267 \n",
            "13 \t32    \t233835 \t221387 \t235267 \n",
            "14 \t26    \t227118 \t18561.5\t235274 \n",
            "15 \t35    \t233963 \t214197 \t235583 \n",
            "16 \t34    \t233827 \t214136 \t235583 \n",
            "17 \t38    \t234067 \t189898 \t235542 \n",
            "18 \t35    \t232065 \t159301 \t235542 \n",
            "19 \t28    \t235116 \t222342 \t235618 \n",
            "20 \t28    \t235498 \t235025 \t235663 \n",
            "21 \t26    \t234348 \t191242 \t235664 \n",
            "22 \t29    \t234013 \t197079 \t235666 \n",
            "23 \t34    \t232479 \t141543 \t235682 \n",
            "24 \t37    \t234431 \t206297 \t235688 \n",
            "25 \t29    \t235149 \t224118 \t235688 \n",
            "26 \t40    \t235533 \t232273 \t235713 \n",
            "27 \t29    \t235079 \t225489 \t235713 \n",
            "28 \t30    \t234691 \t205435 \t235724 \n",
            "29 \t26    \t235674 \t234508 \t235722 \n",
            "30 \t29    \t235709 \t235667 \t235726 \n",
            "31 \t29    \t235699 \t234764 \t235727 \n",
            "32 \t32    \t234941 \t206585 \t235734 \n",
            "33 \t28    \t235448 \t228062 \t235736 \n",
            "34 \t31    \t235484 \t223547 \t235739 \n",
            "35 \t28    \t235545 \t229087 \t235740 \n",
            "36 \t29    \t235625 \t230179 \t235744 \n",
            "37 \t33    \t235706 \t234583 \t235753 \n",
            "38 \t31    \t234740 \t190703 \t235754 \n",
            "39 \t28    \t234968 \t201597 \t235754 \n",
            "40 \t27    \t234785 \t201209 \t235755 \n",
            "\n",
            "Optimized Weights:\n",
            "eMBB: [-0.3638834937510959, 0.03645577207868393, -1.6803433119128628]\n",
            "URLLC: [-4.2758040571065685e-05, 1.6046431317162902e-06, -1.648008563348784]\n",
            "mMTC: [-0.019776339780880177, 0.0019868106248207016, -2.0401637641564916]\n"
          ]
        }
      ]
    },
    {
      "cell_type": "code",
      "source": [
        "!pip install geneticalgorithm"
      ],
      "metadata": {
        "colab": {
          "base_uri": "https://localhost:8080/"
        },
        "id": "Q3eL2mmeXvbO",
        "outputId": "c40a48da-eadd-4a8c-a56f-a2a78d4a7a1a"
      },
      "execution_count": null,
      "outputs": [
        {
          "output_type": "stream",
          "name": "stdout",
          "text": [
            "Collecting geneticalgorithm\n",
            "  Downloading geneticalgorithm-1.0.2-py3-none-any.whl (16 kB)\n",
            "Collecting func-timeout (from geneticalgorithm)\n",
            "  Downloading func_timeout-4.3.5.tar.gz (44 kB)\n",
            "\u001b[?25l     \u001b[90m━━━━━━━━━━━━━━━━━━━━━━━━━━━━━━━━━━━━━━━━\u001b[0m \u001b[32m0.0/44.3 kB\u001b[0m \u001b[31m?\u001b[0m eta \u001b[36m-:--:--\u001b[0m\r\u001b[2K     \u001b[90m━━━━━━━━━━━━━━━━━━━━━━━━━━━━━━━━━━━━━━━━\u001b[0m \u001b[32m44.3/44.3 kB\u001b[0m \u001b[31m1.6 MB/s\u001b[0m eta \u001b[36m0:00:00\u001b[0m\n",
            "\u001b[?25h  Preparing metadata (setup.py) ... \u001b[?25l\u001b[?25hdone\n",
            "Requirement already satisfied: numpy in /usr/local/lib/python3.10/dist-packages (from geneticalgorithm) (1.23.5)\n",
            "Building wheels for collected packages: func-timeout\n",
            "  Building wheel for func-timeout (setup.py) ... \u001b[?25l\u001b[?25hdone\n",
            "  Created wheel for func-timeout: filename=func_timeout-4.3.5-py3-none-any.whl size=15080 sha256=9806a3333796cc5c8e27ea6414bca6ad0f70ae7efbef34bbfeabdac426374abd\n",
            "  Stored in directory: /root/.cache/pip/wheels/3f/83/19/b5552bb9630e353f7c5b15be44bf10900afe1abbbfcf536afd\n",
            "Successfully built func-timeout\n",
            "Installing collected packages: func-timeout, geneticalgorithm\n",
            "Successfully installed func-timeout-4.3.5 geneticalgorithm-1.0.2\n"
          ]
        }
      ]
    },
    {
      "cell_type": "code",
      "source": [
        "import numpy as np\n",
        "import pandas as pd\n",
        "from geneticalgorithm import geneticalgorithm as ga\n",
        "\n",
        "# Load dataset\n",
        "url = \"https://raw.githubusercontent.com/Lazarus-GS/NOMA-FYP-MATLAB/main/New/simulation_dataset2.csv\"\n",
        "df = pd.read_csv(url)\n",
        "\n",
        "# Initial weights for different scenarios\n",
        "scenarios = {\n",
        "    \"eMBB\": [0.7, 0.15, 0.15],\n",
        "    \"URLLC\": [0.2, 0.4, 0.4],\n",
        "    \"mMTC\": [0.5, 0.25, 0.25]\n",
        "}\n"
      ],
      "metadata": {
        "id": "P0XDTkipXhkZ"
      },
      "execution_count": null,
      "outputs": []
    },
    {
      "cell_type": "code",
      "source": [
        "def normalize(column):\n",
        "    return (column - column.min()) / (column.max() - column.min())\n",
        "\n",
        "def calculate_score(weights, importance_factors):\n",
        "    w1, w2, w3 = weights\n",
        "    normalized_capacity = normalize(df['SumRateNearUser'] + df['SumRateFarUser'])\n",
        "    normalized_ber = normalize(df['BERNearUser'] + df['BERFarUser'])\n",
        "    normalized_outage = normalize(df['OutageProbNearUser'] + df['OutageProbFarUser'])\n",
        "\n",
        "    score = importance_factors[0] * (w1 * normalized_capacity) \\\n",
        "            - importance_factors[1] * (w2 * normalized_ber) \\\n",
        "            - importance_factors[2] * (w3 * normalized_outage)\n",
        "\n",
        "    return -np.mean(score)\n",
        "\n",
        "def eMBB(weights):\n",
        "    return calculate_score(weights, [0.7, 0.15, 0.15])\n",
        "\n",
        "def URLLC(weights):\n",
        "    return calculate_score(weights, [0.2, 0.4, 0.4])\n",
        "\n",
        "def mMTC(weights):\n",
        "    return calculate_score(weights, [0.5, 0.25, 0.25])"
      ],
      "metadata": {
        "id": "oz1V13ETmTuE"
      },
      "execution_count": null,
      "outputs": []
    },
    {
      "cell_type": "code",
      "source": [
        "varbound = np.array([[0, 1]]*3)  # Three variables, each bounded by [0, 1]\n",
        "algorithm_param = {\n",
        "    'max_num_iteration': 1000,\n",
        "    'population_size': 10,\n",
        "    'mutation_probability': 0.1,\n",
        "    'elit_ratio': 0.01,\n",
        "    'crossover_probability': 0.5,\n",
        "    'parents_portion': 0.3,\n",
        "    'crossover_type': 'uniform',\n",
        "    'max_iteration_without_improv': None\n",
        "}\n",
        "\n",
        "evaluation_funcs = {\n",
        "    'eMBB': eMBB,\n",
        "    'URLLC': URLLC,\n",
        "    'mMTC': mMTC\n",
        "}"
      ],
      "metadata": {
        "id": "SkC_ydiAmc5a"
      },
      "execution_count": null,
      "outputs": []
    },
    {
      "cell_type": "code",
      "source": [
        "def set_initial_population(model, weights):\n",
        "    population_size = model.param['population_size']\n",
        "    initial_population = np.random.uniform(0, 1, (population_size, model.dim))\n",
        "    initial_population[0] = weights\n",
        "    return initial_population\n",
        "\n",
        "for scenario, init_weights in scenarios.items():\n",
        "    model = ga(function=evaluation_funcs[scenario], dimension=3, variable_type='real', variable_boundaries=varbound,\n",
        "               algorithm_parameters=algorithm_param)\n",
        "\n",
        "    model.initial_population = set_initial_population(model, init_weights)\n",
        "\n",
        "    model.run()\n",
        "    optimized_weights = model.output_dict['variable'] / np.sum(model.output_dict['variable'])\n",
        "    print(f\"Optimized Weights for {scenario}: {optimized_weights}\")"
      ],
      "metadata": {
        "colab": {
          "base_uri": "https://localhost:8080/",
          "height": 1000
        },
        "id": "cuO6LQrJme2p",
        "outputId": "659bd8e7-30de-4077-d51f-03f1c1e21c8b"
      },
      "execution_count": null,
      "outputs": [
        {
          "output_type": "stream",
          "name": "stdout",
          "text": [
            " The best solution found:\n",
            " [9.99895377e-01 8.87596170e-04 1.08429603e-03]\n",
            "\n",
            " Objective function:\n",
            " -0.024817644116223607\n"
          ]
        },
        {
          "output_type": "display_data",
          "data": {
            "text/plain": [
              "<Figure size 640x480 with 1 Axes>"
            ],
            "image/png": "[encoded data removed]"
          },
          "metadata": {}
        },
        {
          "output_type": "stream",
          "name": "stdout",
          "text": [
            "Optimized Weights for eMBB: [9.98031783e-01 8.85941878e-04 1.08227513e-03]\n",
            " The best solution found:\n",
            " [9.99850595e-01 4.36579863e-03 2.99732059e-04]\n",
            "\n",
            " Objective function:\n",
            " -0.0056018746105197924\n"
          ]
        },
        {
          "output_type": "display_data",
          "data": {
            "text/plain": [
              "<Figure size 640x480 with 1 Axes>"
            ],
            "image/png": "[encoded data removed]"
          },
          "metadata": {}
        },
        {
          "output_type": "stream",
          "name": "stdout",
          "text": [
            "Optimized Weights for URLLC: [9.95355445e-01 4.34617077e-03 2.98384518e-04]\n",
            " The best solution found:\n",
            " [0.99846788 0.00190216 0.00194657]\n",
            "\n",
            " Objective function:\n",
            " -0.017026285767816247\n"
          ]
        },
        {
          "output_type": "display_data",
          "data": {
            "text/plain": [
              "<Figure size 640x480 with 1 Axes>"
            ],
            "image/png": "[encoded data removed]"
          },
          "metadata": {}
        },
        {
          "output_type": "stream",
          "name": "stdout",
          "text": [
            "Optimized Weights for mMTC: [0.99616017 0.00189776 0.00194207]\n"
          ]
        }
      ]
    }
  ]
}